{
 "cells": [
  {
   "cell_type": "markdown",
   "metadata": {},
   "source": [
    "## 多层全连接神经网络实现 MNIST 手写数字分类"
   ]
  },
  {
   "cell_type": "markdown",
   "metadata": {},
   "source": [
    "$Talk$ $is$ $cheap$, $show$ $me$ $the$ $code$.      Harrytsz"
   ]
  },
  {
   "cell_type": "markdown",
   "metadata": {},
   "source": [
    "### 一、定义模型："
   ]
  },
  {
   "cell_type": "markdown",
   "metadata": {},
   "source": [
    ">1.简单的三层全连接神经网络    \n",
    ">2.添加激活函数的神经网络    \n",
    ">3.添加批标准化的神经网络   "
   ]
  },
  {
   "cell_type": "markdown",
   "metadata": {},
   "source": [
    "引入包："
   ]
  },
  {
   "cell_type": "code",
   "execution_count": 1,
   "metadata": {},
   "outputs": [],
   "source": [
    "import torch\n",
    "from torch import nn, optim\n",
    "from torch.autograd import Variable\n",
    "from torch.utils.data import DataLoader\n",
    "from torchvision import datasets, transforms"
   ]
  },
  {
   "cell_type": "markdown",
   "metadata": {},
   "source": [
    "定义超参数："
   ]
  },
  {
   "cell_type": "code",
   "execution_count": 2,
   "metadata": {},
   "outputs": [],
   "source": [
    "batch_size = 64\n",
    "learning_rate = 1e-2\n",
    "num_epoches = 20"
   ]
  },
  {
   "cell_type": "markdown",
   "metadata": {},
   "source": [
    "下载数据并转换："
   ]
  },
  {
   "cell_type": "code",
   "execution_count": 3,
   "metadata": {},
   "outputs": [],
   "source": [
    "import numpy as np\n",
    "\n",
    "def data_tf(x):\n",
    "    x = np.array(x, dtype='float32') / 255\n",
    "    x = (x - 0.5) / 0.5 # 标准化\n",
    "    x = x.reshape((-1,)) # 拉平\n",
    "    x = torch.from_numpy(x)\n",
    "    return x\n",
    "\n",
    "# 使用内置函数下载 MNIST 数据集\n",
    "train_set = datasets.MNIST('./data', train=True, transform=data_tf, download=True)\n",
    "test_set = datasets.MNIST('./data', train=False, transform=data_tf, download=True)"
   ]
  },
  {
   "cell_type": "markdown",
   "metadata": {},
   "source": [
    "定义数据迭代器："
   ]
  },
  {
   "cell_type": "code",
   "execution_count": 4,
   "metadata": {},
   "outputs": [],
   "source": [
    "# 使用 pytorch 自带的 DataLoader 定义数据迭代器\n",
    "train_loader = DataLoader(train_set, batch_size=batch_size, shuffle=True)\n",
    "test_loader = DataLoader(test_set, batch_size=batch_size, shuffle=False)"
   ]
  },
  {
   "cell_type": "markdown",
   "metadata": {},
   "source": [
    "#### 1.简单的三层全连接神经网络"
   ]
  },
  {
   "cell_type": "code",
   "execution_count": 5,
   "metadata": {},
   "outputs": [],
   "source": [
    "class simpleNet(nn.Module):\n",
    "    def __init__(self, in_dim, hidden_1, hidden_2, out_dim):\n",
    "        super(simpleNet, self).__init__()\n",
    "        self.layer1 = nn.Linear(in_dim, hidden_1)\n",
    "        self.layer2 = nn.Linear(hidden_1, hidden_2)\n",
    "        self.layer3 = nn.Linear(hidden_2, out_dim)\n",
    "        \n",
    "    def forward(self, x):\n",
    "        x = self.layer1(x)\n",
    "        x = self.layer2(x)\n",
    "        x = self.layer3(x)\n",
    "        return x"
   ]
  },
  {
   "cell_type": "code",
   "execution_count": 6,
   "metadata": {},
   "outputs": [],
   "source": [
    "model0 = simpleNet(28*28, 30, 100, 10)nn.ReLU(True)"
   ]
  },
  {
   "cell_type": "code",
   "execution_count": 11,
   "metadata": {},
   "outputs": [],
   "source": [
    "if torch.cuda.is_available():\n",
    "    model = model0.cuda()\n",
    "else:\n",
    "    model = model0"
   ]
  },
  {
   "cell_type": "markdown",
   "metadata": {},
   "source": [
    "#### 2.添加激活函数的神经网络"
   ]
  },
  {
   "cell_type": "code",
   "execution_count": 5,
   "metadata": {},
   "outputs": [],
   "source": [
    "class ActivNet(nn.Module):\n",
    "    def __init__(self, in_dim, hidden_1, hidden_2, out_dim):\n",
    "        super(ActivNet, self).__init__()\n",
    "        self.layer1 = nn.Sequential(\n",
    "            nn.Linear(in_dim, hidden_1),\n",
    "            nn.ReLU(True)\n",
    "        )\n",
    "        self.layer2 = nn.Sequential(\n",
    "            nn.Linear(hidden_1, hidden_2),\n",
    "            nn.ReLU(True)\n",
    "        )\n",
    "        self.layer3 = nn.Sequential(\n",
    "            nn.Linear(hidden_2, out_dim),\n",
    "            nn.ReLU(True)\n",
    "        )\n",
    "        \n",
    "    def forward(self, x):\n",
    "        x = self.layer1(x)\n",
    "        x = self.layer2(x)\n",
    "        x = self.layer3(x)\n",
    "        return x"
   ]
  },
  {
   "cell_type": "code",
   "execution_count": 6,
   "metadata": {},
   "outputs": [],
   "source": [
    "model1 = ActivNet(28*28, 30, 100, 10)"
   ]
  },
  {
   "cell_type": "code",
   "execution_count": 7,
   "metadata": {},
   "outputs": [],
   "source": [
    "if torch.cuda.is_available():\n",
    "    model = model1.cuda()\n",
    "else:\n",
    "    model = model1"
   ]
  },
  {
   "cell_type": "markdown",
   "metadata": {},
   "source": [
    "#### 3.添加批标准化的神经网络"
   ]
  },
  {
   "cell_type": "code",
   "execution_count": 7,
   "metadata": {},
   "outputs": [],
   "source": [
    "class BatchNet(nn.Module):\n",
    "    def __init__(self, in_dim, hidden_1, hidden_2, out_dim):\n",
    "        super(BatchNet, self).__init__()\n",
    "        self.layer1 = nn.Sequential(\n",
    "            nn.Linear(in_dim, hidden_1),\n",
    "            nn.BatchNorm1d(hidden_1),\n",
    "            nn.ReLU(True)\n",
    "        )\n",
    "        self.layer2 = nn.Sequential(\n",
    "            nn.Linear(hidden_1, hidden_2),\n",
    "            nn.BatchNorm1d(hidden_2),\n",
    "            nn.ReLU(True)\n",
    "        )\n",
    "        self.layer3 = nn.Sequential(\n",
    "            nn.Linear(hidden_2, out_dim)\n",
    "        )\n",
    "        \n",
    "    def forward(self, x):\n",
    "        x = self.layer1(x)\n",
    "        x = self.layer2(x)\n",
    "        x = self.layer3(x)\n",
    "        return x"
   ]
  },
  {
   "cell_type": "code",
   "execution_count": 8,
   "metadata": {},
   "outputs": [],
   "source": [
    "model2 = BatchNet(28*28, 30, 100, 10)"
   ]
  },
  {
   "cell_type": "code",
   "execution_count": 9,
   "metadata": {},
   "outputs": [],
   "source": [
    "if torch.cuda.is_available():\n",
    "    model = model2.cuda()\n",
    "else:\n",
    "    model = model2"
   ]
  },
  {
   "cell_type": "markdown",
   "metadata": {},
   "source": [
    "## 二、定义损失函数和优化方法"
   ]
  },
  {
   "cell_type": "code",
   "execution_count": 10,
   "metadata": {},
   "outputs": [],
   "source": [
    "criterion = nn.CrossEntropyLoss()\n",
    "optimizer = optim.SGD(model.parameters(), lr=learning_rate)"
   ]
  },
  {
   "cell_type": "markdown",
   "metadata": {},
   "source": [
    "## 三、训练网络和预测"
   ]
  },
  {
   "cell_type": "code",
   "execution_count": 11,
   "metadata": {},
   "outputs": [
    {
     "name": "stdout",
     "output_type": "stream",
     "text": [
      "Epoch: 0, Train Loss: 0.880276, Train Acc: 0.816031, Eval Loss: 0.337854, Eval Acc: 0.924761\n",
      "Epoch: 1, Train Loss: 0.305169, Train Acc: 0.908815, Eval Loss: 0.224991, Eval Acc: 0.929737\n",
      "Epoch: 2, Train Loss: 0.204296, Train Acc: 0.937816, Eval Loss: 0.194027, Eval Acc: 0.937500\n",
      "Epoch: 3, Train Loss: 0.172491, Train Acc: 0.947994, Eval Loss: 0.200835, Eval Acc: 0.936007\n",
      "Epoch: 4, Train Loss: 0.150117, Train Acc: 0.954907, Eval Loss: 0.166577, Eval Acc: 0.947054\n",
      "Epoch: 5, Train Loss: 0.135871, Train Acc: 0.958239, Eval Loss: 0.143080, Eval Acc: 0.955812\n",
      "Epoch: 6, Train Loss: 0.125057, Train Acc: 0.962487, Eval Loss: 0.149453, Eval Acc: 0.953125\n",
      "Epoch: 7, Train Loss: 0.116804, Train Acc: 0.964269, Eval Loss: 0.154396, Eval Acc: 0.952727\n",
      "Epoch: 8, Train Loss: 0.110733, Train Acc: 0.966485, Eval Loss: 0.167499, Eval Acc: 0.951632\n",
      "Epoch: 9, Train Loss: 0.104194, Train Acc: 0.967984, Eval Loss: 0.142595, Eval Acc: 0.956907\n",
      "Epoch: 10, Train Loss: 0.099830, Train Acc: 0.969566, Eval Loss: 0.137556, Eval Acc: 0.960888\n",
      "Epoch: 11, Train Loss: 0.094157, Train Acc: 0.971832, Eval Loss: 0.112132, Eval Acc: 0.966262\n",
      "Epoch: 12, Train Loss: 0.090932, Train Acc: 0.972115, Eval Loss: 0.117979, Eval Acc: 0.965963\n",
      "Epoch: 13, Train Loss: 0.087195, Train Acc: 0.972798, Eval Loss: 0.167879, Eval Acc: 0.953822\n",
      "Epoch: 14, Train Loss: 0.084206, Train Acc: 0.973947, Eval Loss: 0.120510, Eval Acc: 0.963873\n",
      "Epoch: 15, Train Loss: 0.081179, Train Acc: 0.974514, Eval Loss: 0.114809, Eval Acc: 0.967058\n",
      "Epoch: 16, Train Loss: 0.077785, Train Acc: 0.975680, Eval Loss: 0.119454, Eval Acc: 0.962978\n",
      "Epoch: 17, Train Loss: 0.075565, Train Acc: 0.976146, Eval Loss: 0.125556, Eval Acc: 0.961485\n",
      "Epoch: 18, Train Loss: 0.073220, Train Acc: 0.977312, Eval Loss: 0.164897, Eval Acc: 0.951334\n",
      "Epoch: 19, Train Loss: 0.071198, Train Acc: 0.977212, Eval Loss: 0.112704, Eval Acc: 0.968850\n"
     ]
    }
   ],
   "source": [
    "losses = []\n",
    "acces = []\n",
    "eval_losses = []\n",
    "eval_acces = []\n",
    "\n",
    "for epoch in range(num_epoches):\n",
    "    train_loss = 0\n",
    "    train_acc = 0\n",
    "    \n",
    "    # 训练模型\n",
    "    for img, label in train_loader:\n",
    "        if torch.cuda.is_available():\n",
    "            img = Variable(img).cuda()\n",
    "            label = Variable(label).cuda()\n",
    "        else:\n",
    "            img = Variable(img)\n",
    "            label = Variable(label)\n",
    "        \n",
    "        # Forward\n",
    "        out = model(img)\n",
    "        loss = criterion(out, label)\n",
    "        \n",
    "        # Backward\n",
    "        optimizer.zero_grad()\n",
    "        loss.backward()\n",
    "        optimizer.step()\n",
    "        \n",
    "        # Record Loss\n",
    "        train_loss += loss.item()\n",
    "        \n",
    "        # Compute classfication acc\n",
    "        _, pred = out.max(1)\n",
    "        num_correct = (pred==label).sum().item()\n",
    "        acc = num_correct / img.shape[0]\n",
    "        train_acc += acc\n",
    "    losses.append(train_loss / len(train_loader))\n",
    "    acces.append(train_acc / len(train_loader))\n",
    "    \n",
    "    # 在测试集上检验效果\n",
    "    eval_loss = 0\n",
    "    eval_acc = 0\n",
    "    model.eval()  # 将模型改为预测模式\n",
    "    for img, label in test_loader:\n",
    "        if torch.cuda.is_available():\n",
    "            img = Variable(img).cuda()\n",
    "            label = Variable(label).cuda()\n",
    "        else:\n",
    "            img = Variable(img)\n",
    "            label = Variable(label)\n",
    "        \n",
    "        out = model(img)\n",
    "        loss = criterion(out, label)\n",
    "        \n",
    "        # Record Loss\n",
    "        eval_loss += loss.item()\n",
    "        \n",
    "        # Record predict acc\n",
    "        _, pred = out.max(1)\n",
    "        num_correct = (pred==label).sum().item()\n",
    "        acc = num_correct / img.shape[0]\n",
    "        eval_acc += acc\n",
    "    eval_losses.append(eval_loss / len(test_loader))\n",
    "    eval_acces.append(eval_acc / len(test_loader))\n",
    "    print('Epoch: {}, Train Loss: {:.6f}, Train Acc: {:.6f}, Eval Loss: {:.6f}, Eval Acc: {:.6f}'\n",
    "         .format(epoch, train_loss / len(train_loader), train_acc / len(train_loader),\n",
    "         eval_loss / len(test_loader), eval_acc / len(test_loader)))\n",
    "    "
   ]
  },
  {
   "cell_type": "markdown",
   "metadata": {},
   "source": [
    "## 四、可视化"
   ]
  },
  {
   "cell_type": "markdown",
   "metadata": {},
   "source": [
    "画出 loss 曲线和准确率曲线"
   ]
  },
  {
   "cell_type": "code",
   "execution_count": 12,
   "metadata": {},
   "outputs": [],
   "source": [
    "import matplotlib.pyplot as plt\n",
    "%matplotlib inline"
   ]
  },
  {
   "cell_type": "code",
   "execution_count": 13,
   "metadata": {},
   "outputs": [
    {
     "data": {
      "image/png": "[encoded data removed]",
      "text/plain": [
       "<Figure size 432x288 with 4 Axes>"
      ]
     },
     "metadata": {
      "needs_background": "light"
     },
     "output_type": "display_data"
    }
   ],
   "source": [
    "plt.figure()\n",
    "plt.subplot(221)\n",
    "plt.title('Training Loss')\n",
    "plt.plot(np.arange(len(losses)), losses)\n",
    " \n",
    "plt.subplot(222)\n",
    "plt.title('Training Acc')\n",
    "plt.plot(np.arange(len(acces)), acces)\n",
    " \n",
    "plt.subplot(223)\n",
    "plt.title('Eval Loss')\n",
    "plt.plot(np.arange(len(eval_losses)), eval_losses)\n",
    "\n",
    "plt.subplot(224)\n",
    "plt.title('Eval Acc')\n",
    "plt.plot(np.arange(len(eval_acces)), eval_acces)\n",
    "\n",
    "plt.subplots_adjust(left=None, bottom=None, right=None, top=None,\n",
    "                wspace=None, hspace=0.4)\n",
    "\n",
    "plt.show()\n",
    " "
   ]
  },
  {
   "cell_type": "code",
   "execution_count": null,
   "metadata": {},
   "outputs": [],
   "source": []
  }
 ],
 "metadata": {
  "kernelspec": {
   "display_name": "Python 3",
   "language": "python",
   "name": "python3"
  },
  "language_info": {
   "codemirror_mode": {
    "name": "ipython",
    "version": 3
   },
   "file_extension": ".py",
   "mimetype": "text/x-python",
   "name": "python",
   "nbconvert_exporter": "python",
   "pygments_lexer": "ipython3",
   "version": "3.7.3"
  }
 },
 "nbformat": 4,
 "nbformat_minor": 2
}
